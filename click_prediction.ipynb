{
  "cells": [
    {
      "cell_type": "code",
      "execution_count": null,
      "metadata": {
        "id": "QFGASdTteQql"
      },
      "outputs": [],
      "source": [
        "import pandas as pd\n",
        "import numpy as np\n",
        "from catboost import CatBoost, CatBoostRegressor, Pool\n",
        "from catboost import CatBoostClassifier\n",
        "from sklearn import datasets\n",
        "from catboost import CatBoostClassifier\n",
        "from sklearn.model_selection import GridSearchCV\n",
        "from sklearn.metrics import log_loss\n",
        "import time"
      ]
    },
    {
      "cell_type": "code",
      "execution_count": null,
      "metadata": {
        "id": "UJvfT63NeQqn"
      },
      "outputs": [],
      "source": [
        "test_new = pd.read_csv('test.tsv.gz',sep='\\t',compression='gzip')"
      ]
    },
    {
      "cell_type": "code",
      "execution_count": null,
      "metadata": {
        "id": "T0iDAYg_eQqo"
      },
      "outputs": [],
      "source": [
        "train_new = pd.read_csv('train.tsv.gz',sep='\\t',compression='gzip')"
      ]
    },
    {
      "cell_type": "code",
      "execution_count": null,
      "metadata": {
        "id": "bRZgluOXeQqo",
        "outputId": "901a12c8-4805-4c97-86ee-7fa7cbdc64d3"
      },
      "outputs": [
        {
          "data": {
            "text/html": [
              "<div>\n",
              "<style scoped>\n",
              "    .dataframe tbody tr th:only-of-type {\n",
              "        vertical-align: middle;\n",
              "    }\n",
              "\n",
              "    .dataframe tbody tr th {\n",
              "        vertical-align: top;\n",
              "    }\n",
              "\n",
              "    .dataframe thead th {\n",
              "        text-align: right;\n",
              "    }\n",
              "</style>\n",
              "<table border=\"1\" class=\"dataframe\">\n",
              "  <thead>\n",
              "    <tr style=\"text-align: right;\">\n",
              "      <th></th>\n",
              "      <th>column</th>\n",
              "      <th>nunique</th>\n",
              "      <th>nnull</th>\n",
              "      <th>mode</th>\n",
              "      <th>values</th>\n",
              "    </tr>\n",
              "  </thead>\n",
              "  <tbody>\n",
              "    <tr>\n",
              "      <td>0</td>\n",
              "      <td>Unnamed: 0</td>\n",
              "      <td>29989753</td>\n",
              "      <td>0</td>\n",
              "      <td>0</td>\n",
              "      <td>[0, 1, 2, 3, 4, 5, 6, 7, 8, 9]</td>\n",
              "    </tr>\n",
              "    <tr>\n",
              "      <td>1</td>\n",
              "      <td>ts</td>\n",
              "      <td>259201</td>\n",
              "      <td>1</td>\n",
              "      <td>1.37943e+09</td>\n",
              "      <td>[1379278800.0, 1379278801.0, 1379278802.0, 137...</td>\n",
              "    </tr>\n",
              "    <tr>\n",
              "      <td>2</td>\n",
              "      <td>label</td>\n",
              "      <td>3</td>\n",
              "      <td>1</td>\n",
              "      <td>0</td>\n",
              "      <td>[0.0, 1.0, nan]</td>\n",
              "    </tr>\n",
              "    <tr>\n",
              "      <td>3</td>\n",
              "      <td>A</td>\n",
              "      <td>968188</td>\n",
              "      <td>1</td>\n",
              "      <td>4.01307e+09</td>\n",
              "      <td>[2733540231.0, 1964843810.0, 660357674.0, 2962...</td>\n",
              "    </tr>\n",
              "    <tr>\n",
              "      <td>4</td>\n",
              "      <td>B</td>\n",
              "      <td>88651</td>\n",
              "      <td>1</td>\n",
              "      <td>2.27719e+09</td>\n",
              "      <td>[3500392421.0, 1232327635.0, 2066571765.0, 237...</td>\n",
              "    </tr>\n",
              "    <tr>\n",
              "      <td>5</td>\n",
              "      <td>C</td>\n",
              "      <td>5931</td>\n",
              "      <td>1</td>\n",
              "      <td>2252</td>\n",
              "      <td>[4454.0, 2081.0, 602.0, 4018.0, 4781.0, 5454.0...</td>\n",
              "    </tr>\n",
              "    <tr>\n",
              "      <td>6</td>\n",
              "      <td>D</td>\n",
              "      <td>32205</td>\n",
              "      <td>1</td>\n",
              "      <td>21050</td>\n",
              "      <td>[15573.0, 2547.0, 29581.0, 36969.0, 23457.0, 1...</td>\n",
              "    </tr>\n",
              "    <tr>\n",
              "      <td>7</td>\n",
              "      <td>E</td>\n",
              "      <td>99</td>\n",
              "      <td>1</td>\n",
              "      <td>30</td>\n",
              "      <td>[11.0, 29.0, 30.0, 35.0, 6.0, 10.0, 88.0, 83.0...</td>\n",
              "    </tr>\n",
              "    <tr>\n",
              "      <td>8</td>\n",
              "      <td>F</td>\n",
              "      <td>3806</td>\n",
              "      <td>1</td>\n",
              "      <td>995</td>\n",
              "      <td>[995.0, 1694.0, 3905.0, 551.0, 2038.0, 3418.0,...</td>\n",
              "    </tr>\n",
              "    <tr>\n",
              "      <td>9</td>\n",
              "      <td>G</td>\n",
              "      <td>4</td>\n",
              "      <td>1</td>\n",
              "      <td>2</td>\n",
              "      <td>[2.0, 0.0, 1.0, nan]</td>\n",
              "    </tr>\n",
              "    <tr>\n",
              "      <td>10</td>\n",
              "      <td>H</td>\n",
              "      <td>452</td>\n",
              "      <td>1</td>\n",
              "      <td>177</td>\n",
              "      <td>[176.0, 361.0, 468.0, 8.0, 452.0, 390.0, 313.0...</td>\n",
              "    </tr>\n",
              "    <tr>\n",
              "      <td>11</td>\n",
              "      <td>I</td>\n",
              "      <td>102</td>\n",
              "      <td>1</td>\n",
              "      <td>15</td>\n",
              "      <td>[15.0, 22.0, 53.0, 20.0, 1.0, 63.0, 47.0, 39.0...</td>\n",
              "    </tr>\n",
              "    <tr>\n",
              "      <td>12</td>\n",
              "      <td>J</td>\n",
              "      <td>1325</td>\n",
              "      <td>1</td>\n",
              "      <td>821</td>\n",
              "      <td>[671.0, 802.0, 758.0, 67.0, 821.0, 822.0, 24.0...</td>\n",
              "    </tr>\n",
              "    <tr>\n",
              "      <td>13</td>\n",
              "      <td>CG1</td>\n",
              "      <td>2096666</td>\n",
              "      <td>94212</td>\n",
              "      <td>99,154,155,76,412,122,139,333,332,335,334</td>\n",
              "      <td>[384,382,96,88,185,49,385,268,448,438,279,420,...</td>\n",
              "    </tr>\n",
              "    <tr>\n",
              "      <td>14</td>\n",
              "      <td>CG2</td>\n",
              "      <td>148996</td>\n",
              "      <td>19500378</td>\n",
              "      <td>30009</td>\n",
              "      <td>[nan, 28071,6916,9108, 18587,21441,22177, 1456...</td>\n",
              "    </tr>\n",
              "    <tr>\n",
              "      <td>15</td>\n",
              "      <td>CG3</td>\n",
              "      <td>239353</td>\n",
              "      <td>26905271</td>\n",
              "      <td>45509</td>\n",
              "      <td>[nan, 43845,45509,45500,15529,33701,49513,4951...</td>\n",
              "    </tr>\n",
              "    <tr>\n",
              "      <td>16</td>\n",
              "      <td>l1</td>\n",
              "      <td>20444</td>\n",
              "      <td>1</td>\n",
              "      <td>0</td>\n",
              "      <td>[32.0, 1.0, 119.0, 0.0, 5.0, 3.0, 26.0, 52.0, ...</td>\n",
              "    </tr>\n",
              "    <tr>\n",
              "      <td>17</td>\n",
              "      <td>l2</td>\n",
              "      <td>87</td>\n",
              "      <td>1</td>\n",
              "      <td>0</td>\n",
              "      <td>[0.0, 1.0, 2.0, 4.0, 5.0, 3.0, 15.0, 10.0, 6.0...</td>\n",
              "    </tr>\n",
              "    <tr>\n",
              "      <td>18</td>\n",
              "      <td>K</td>\n",
              "      <td>3</td>\n",
              "      <td>1</td>\n",
              "      <td>0</td>\n",
              "      <td>[0.0, 1.0, nan]</td>\n",
              "    </tr>\n",
              "    <tr>\n",
              "      <td>19</td>\n",
              "      <td>L</td>\n",
              "      <td>9</td>\n",
              "      <td>1</td>\n",
              "      <td>106</td>\n",
              "      <td>[106.0, 103.0, 105.0, 104.0, 107.0, 100.0, 101...</td>\n",
              "    </tr>\n",
              "    <tr>\n",
              "      <td>20</td>\n",
              "      <td>M</td>\n",
              "      <td>29989753</td>\n",
              "      <td>0</td>\n",
              "      <td>2.42607e-08</td>\n",
              "      <td>[0.574599281141893, 0.7399905633873455, 0.0054...</td>\n",
              "    </tr>\n",
              "    <tr>\n",
              "      <td>21</td>\n",
              "      <td>N</td>\n",
              "      <td>1</td>\n",
              "      <td>0</td>\n",
              "      <td>0</td>\n",
              "      <td>[0]</td>\n",
              "    </tr>\n",
              "  </tbody>\n",
              "</table>\n",
              "</div>"
            ],
            "text/plain": [
              "        column   nunique     nnull                                       mode  \\\n",
              "0   Unnamed: 0  29989753         0                                          0   \n",
              "1           ts    259201         1                                1.37943e+09   \n",
              "2        label         3         1                                          0   \n",
              "3            A    968188         1                                4.01307e+09   \n",
              "4            B     88651         1                                2.27719e+09   \n",
              "5            C      5931         1                                       2252   \n",
              "6            D     32205         1                                      21050   \n",
              "7            E        99         1                                         30   \n",
              "8            F      3806         1                                        995   \n",
              "9            G         4         1                                          2   \n",
              "10           H       452         1                                        177   \n",
              "11           I       102         1                                         15   \n",
              "12           J      1325         1                                        821   \n",
              "13         CG1   2096666     94212  99,154,155,76,412,122,139,333,332,335,334   \n",
              "14         CG2    148996  19500378                                      30009   \n",
              "15         CG3    239353  26905271                                      45509   \n",
              "16          l1     20444         1                                          0   \n",
              "17          l2        87         1                                          0   \n",
              "18           K         3         1                                          0   \n",
              "19           L         9         1                                        106   \n",
              "20           M  29989753         0                                2.42607e-08   \n",
              "21           N         1         0                                          0   \n",
              "\n",
              "                                               values  \n",
              "0                      [0, 1, 2, 3, 4, 5, 6, 7, 8, 9]  \n",
              "1   [1379278800.0, 1379278801.0, 1379278802.0, 137...  \n",
              "2                                     [0.0, 1.0, nan]  \n",
              "3   [2733540231.0, 1964843810.0, 660357674.0, 2962...  \n",
              "4   [3500392421.0, 1232327635.0, 2066571765.0, 237...  \n",
              "5   [4454.0, 2081.0, 602.0, 4018.0, 4781.0, 5454.0...  \n",
              "6   [15573.0, 2547.0, 29581.0, 36969.0, 23457.0, 1...  \n",
              "7   [11.0, 29.0, 30.0, 35.0, 6.0, 10.0, 88.0, 83.0...  \n",
              "8   [995.0, 1694.0, 3905.0, 551.0, 2038.0, 3418.0,...  \n",
              "9                                [2.0, 0.0, 1.0, nan]  \n",
              "10  [176.0, 361.0, 468.0, 8.0, 452.0, 390.0, 313.0...  \n",
              "11  [15.0, 22.0, 53.0, 20.0, 1.0, 63.0, 47.0, 39.0...  \n",
              "12  [671.0, 802.0, 758.0, 67.0, 821.0, 822.0, 24.0...  \n",
              "13  [384,382,96,88,185,49,385,268,448,438,279,420,...  \n",
              "14  [nan, 28071,6916,9108, 18587,21441,22177, 1456...  \n",
              "15  [nan, 43845,45509,45500,15529,33701,49513,4951...  \n",
              "16  [32.0, 1.0, 119.0, 0.0, 5.0, 3.0, 26.0, 52.0, ...  \n",
              "17  [0.0, 1.0, 2.0, 4.0, 5.0, 3.0, 15.0, 10.0, 6.0...  \n",
              "18                                    [0.0, 1.0, nan]  \n",
              "19  [106.0, 103.0, 105.0, 104.0, 107.0, 100.0, 101...  \n",
              "20  [0.574599281141893, 0.7399905633873455, 0.0054...  \n",
              "21                                                [0]  "
            ]
          },
          "execution_count": 130,
          "metadata": {},
          "output_type": "execute_result"
        }
      ],
      "source": [
        "lst = []\n",
        "for name in train_new.columns:\n",
        "    nu = len(train_new[name].unique())\n",
        "    nisnan =  train_new[name].isnull().sum()\n",
        "    mode = train_new[name].mode().values[0]\n",
        "    lst.append([name, nu, nisnan,mode, train_new[name].unique()[:min(nu,10)]])\n",
        "pd.DataFrame(lst,columns = ['column', 'nunique', 'nnull', 'mode','values'])"
      ]
    },
    {
      "cell_type": "code",
      "execution_count": null,
      "metadata": {
        "id": "kRD3eL_JeQqq"
      },
      "outputs": [],
      "source": [
        "train_new['CG1_nan'] = train_new['CG1'].isna()\n",
        "train_new['CG2_nan'] = train_new['CG2'].isna()\n",
        "train_new['CG3_nan'] = train_new['CG3'].isna()\n",
        "\n",
        "test_new['CG2_nan'] = test_new['CG2'].isna()\n",
        "test_new['CG1_nan'] = test_new['CG1'].isna()\n",
        "test_new['CG3_nan'] = test_new['CG3'].isna()"
      ]
    },
    {
      "cell_type": "code",
      "execution_count": null,
      "metadata": {
        "id": "q2Z8D6dveQqq"
      },
      "outputs": [],
      "source": [
        "from datetime import datetime\n",
        "\n",
        "years = []\n",
        "months = []\n",
        "days = []\n",
        "hours = []\n",
        "for i in train_new['ts'].values:\n",
        "    if is_nan_or_zero(i) == 0:\n",
        "        years.append(datetime.fromtimestamp(i).year)\n",
        "        months.append(datetime.fromtimestamp(i).month)\n",
        "        days.append(datetime.fromtimestamp(i).day)\n",
        "        hours.append(datetime.fromtimestamp(i).hour)\n",
        "    else:\n",
        "        years.append(i)\n",
        "        months.append(i)\n",
        "        days.append(i)\n",
        "        hours.append(i)\n",
        "\n",
        "\n",
        "\n",
        "years_test_new = []\n",
        "months_test_new = []\n",
        "days_test_new = []\n",
        "hours_test_new = []\n",
        "for i in test_new['ts'].values:\n",
        "    if is_nan_or_zero(i) == 0:\n",
        "        years_test_new.append(datetime.fromtimestamp(i).year)\n",
        "        months_test_new.append(datetime.fromtimestamp(i).month)\n",
        "        days_test_new.append(datetime.fromtimestamp(i).day)\n",
        "        hours_test_new.append(datetime.fromtimestamp(i).hour)\n",
        "    else:\n",
        "        years_test_new.append(i)\n",
        "        months_test_new.append(i)\n",
        "        days_test_new.append(i)\n",
        "        hours_test_new.append(i)\n",
        "\n",
        "\n",
        "train_new['year'] = years\n",
        "train_new['month'] = months\n",
        "train_new['day'] = days\n",
        "train_new['hour'] = hours\n",
        "\n",
        "test_new['year'] = years_test_new\n",
        "test_new['month'] = months_test_new\n",
        "test_new['day'] = days_test_new\n",
        "test_new['hour'] = hours_test_new"
      ]
    },
    {
      "cell_type": "code",
      "execution_count": null,
      "metadata": {
        "id": "z1hjHLBueQqr"
      },
      "outputs": [],
      "source": [
        "import math\n",
        "\n",
        "def is_nan_or_zero(val):\n",
        "    return math.isnan(val) or val == 0\n"
      ]
    },
    {
      "cell_type": "code",
      "execution_count": null,
      "metadata": {
        "id": "55UySaeOeQqr"
      },
      "outputs": [],
      "source": [
        "years_test_new = []\n",
        "months_test_new = []\n",
        "days_test_new = []\n",
        "hours_test_new = []\n",
        "for i in test_new['ts'].values:\n",
        "    if is_nan_or_zero(i) == 0:\n",
        "        years_test_new.append(datetime.fromtimestamp(i).year)\n",
        "        months_test_new.append(datetime.fromtimestamp(i).month)\n",
        "        days_test_new.append(datetime.fromtimestamp(i).day)\n",
        "        hours_test_new.append(datetime.fromtimestamp(i).hour)\n",
        "    else:\n",
        "        hours_test_new.append(i)"
      ]
    },
    {
      "cell_type": "code",
      "execution_count": null,
      "metadata": {
        "id": "CbDfiZ9xeQqs"
      },
      "outputs": [],
      "source": [
        "train_new = train_new[train_new['label'].isna() == 0]"
      ]
    },
    {
      "cell_type": "code",
      "execution_count": null,
      "metadata": {
        "id": "-vqHR9YNeQqs"
      },
      "outputs": [],
      "source": [
        "categorical_features_names = [ 'A',  'C', 'D', 'E',   'H',\n",
        "       'I', 'J', 'CG1', 'CG2',   'K', 'L',\n",
        "        'hour', ]\n",
        "\n",
        "feats = ['ts', 'CG1','CG2',\n",
        "       'A', 'B',  'D', 'E', 'F', 'G', 'H', 'I',\n",
        "                           'l1', 'l2', 'K', 'L','CG2_nan', 'hour']"
      ]
    },
    {
      "cell_type": "code",
      "execution_count": null,
      "metadata": {
        "id": "LOang_iqeQqt",
        "outputId": "b54ea5c9-a2d7-4f17-fc82-45099297353f"
      },
      "outputs": [
        {
          "name": "stderr",
          "output_type": "stream",
          "text": [
            "/data/anaconda3/lib/python3.7/site-packages/ipykernel_launcher.py:2: SettingWithCopyWarning: \n",
            "A value is trying to be set on a copy of a slice from a DataFrame.\n",
            "Try using .loc[row_indexer,col_indexer] = value instead\n",
            "\n",
            "See the caveats in the documentation: http://pandas.pydata.org/pandas-docs/stable/user_guide/indexing.html#returning-a-view-versus-a-copy\n",
            "  \n"
          ]
        }
      ],
      "source": [
        "for i in categorical_features_names:\n",
        "    train_new[i] = train_new[i].astype(str)\n",
        "    test_new[i] = test_new[i].astype(str)"
      ]
    },
    {
      "cell_type": "code",
      "execution_count": null,
      "metadata": {
        "id": "QcHp93Z7eQqt"
      },
      "outputs": [],
      "source": [
        "X_train, X_test, y_train, y_test = train_test_split(train_new[feats], train_new[['label']],\n",
        "                                                    stratify=train_new[['label']],\n",
        "                                                    test_size=0.2)"
      ]
    },
    {
      "cell_type": "code",
      "execution_count": null,
      "metadata": {
        "id": "sbdAOjdHeQqt",
        "outputId": "5227f255-77ea-4cce-979b-4ec3af090ad7"
      },
      "outputs": [
        {
          "data": {
            "text/plain": [
              "[['ts',\n",
              "  'CG1',\n",
              "  'CG2',\n",
              "  'A',\n",
              "  'B',\n",
              "  'D',\n",
              "  'E',\n",
              "  'F',\n",
              "  'G',\n",
              "  'H',\n",
              "  'I',\n",
              "  'l1',\n",
              "  'l2',\n",
              "  'K',\n",
              "  'L',\n",
              "  'CG2_nan',\n",
              "  'hour']]"
            ]
          },
          "execution_count": 18,
          "metadata": {},
          "output_type": "execute_result"
        }
      ],
      "source": [
        "feats = [['ts', 'CG1','CG2',\n",
        "       'A', 'B',  'D', 'E', 'F', 'G', 'H', 'I',\n",
        "                           'l1', 'l2', 'K', 'L','CG2_nan', 'hour']]"
      ]
    },
    {
      "cell_type": "code",
      "execution_count": null,
      "metadata": {
        "id": "ImxFO6bdeQqu"
      },
      "outputs": [],
      "source": [
        "feats = ['ts', 'CG1','CG2',\n",
        "       'A', 'B',  'D', 'E', 'F', 'G', 'H', 'I',\n",
        "                           'l1', 'l2', 'K', 'L','CG2_nan', 'hour']"
      ]
    },
    {
      "cell_type": "code",
      "execution_count": null,
      "metadata": {
        "id": "sHYr75lbeQqu"
      },
      "outputs": [],
      "source": [
        "for i in categorical_features_names:\n",
        "    test_new[i] = test_new[i].astype(str)"
      ]
    },
    {
      "cell_type": "code",
      "execution_count": null,
      "metadata": {
        "id": "_h4XVmIEeQqv",
        "outputId": "cc9aaf04-96d6-4228-fd75-95d20cbc2cf9"
      },
      "outputs": [
        {
          "name": "stdout",
          "output_type": "stream",
          "text": [
            "CPU times: user 2min 25s, sys: 22.2 s, total: 2min 48s\n",
            "Wall time: 2min 16s\n"
          ]
        }
      ],
      "source": [
        "%%time\n",
        "preds2 = model.predict_proba(test_new[feats])[:,1]"
      ]
    },
    {
      "cell_type": "code",
      "execution_count": null,
      "metadata": {
        "id": "M06cAiWleQqv"
      },
      "outputs": [],
      "source": [
        "l_z = train_new[train_new['label']==0]"
      ]
    },
    {
      "cell_type": "code",
      "execution_count": null,
      "metadata": {
        "id": "nGauqqcweQqw",
        "outputId": "13042bf5-9ee4-4f08-a875-f4d45bb37345"
      },
      "outputs": [
        {
          "name": "stdout",
          "output_type": "stream",
          "text": [
            "0:\tlearn: 0.5991034\ttotal: 4.81s\tremaining: 9m 32s\n",
            "1:\tlearn: 0.5220900\ttotal: 8.55s\tremaining: 8m 24s\n",
            "2:\tlearn: 0.4578851\ttotal: 15.4s\tremaining: 10m\n",
            "3:\tlearn: 0.4036419\ttotal: 22.1s\tremaining: 10m 40s\n",
            "4:\tlearn: 0.3573299\ttotal: 25.9s\tremaining: 9m 55s\n",
            "5:\tlearn: 0.3174610\ttotal: 29s\tremaining: 9m 10s\n",
            "6:\tlearn: 0.2829116\ttotal: 32.8s\tremaining: 8m 49s\n",
            "7:\tlearn: 0.2528041\ttotal: 35.1s\tremaining: 8m 10s\n",
            "8:\tlearn: 0.2264490\ttotal: 37s\tremaining: 7m 36s\n",
            "9:\tlearn: 0.2032895\ttotal: 38.1s\tremaining: 6m 58s\n",
            "10:\tlearn: 0.1828718\ttotal: 41.4s\tremaining: 6m 50s\n",
            "11:\tlearn: 0.1648261\ttotal: 42.7s\tremaining: 6m 24s\n",
            "12:\tlearn: 0.1488323\ttotal: 44.6s\tremaining: 6m 7s\n",
            "13:\tlearn: 0.1346307\ttotal: 47.6s\tremaining: 6m\n",
            "14:\tlearn: 0.1219975\ttotal: 51.1s\tremaining: 5m 57s\n",
            "15:\tlearn: 0.1107459\ttotal: 53.6s\tremaining: 5m 48s\n",
            "16:\tlearn: 0.1007124\ttotal: 56.6s\tremaining: 5m 43s\n",
            "17:\tlearn: 0.0917636\ttotal: 58s\tremaining: 5m 28s\n",
            "18:\tlearn: 0.0837598\ttotal: 1m 1s\tremaining: 5m 26s\n",
            "19:\tlearn: 0.0766033\ttotal: 1m 4s\tremaining: 5m 24s\n",
            "20:\tlearn: 0.0701990\ttotal: 1m 8s\tremaining: 5m 21s\n",
            "21:\tlearn: 0.0644686\ttotal: 1m 12s\tremaining: 5m 21s\n",
            "22:\tlearn: 0.0593388\ttotal: 1m 15s\tremaining: 5m 20s\n",
            "23:\tlearn: 0.0547452\ttotal: 1m 19s\tremaining: 5m 17s\n",
            "24:\tlearn: 0.0506303\ttotal: 1m 20s\tremaining: 5m 7s\n",
            "25:\tlearn: 0.0469364\ttotal: 1m 24s\tremaining: 5m 3s\n",
            "26:\tlearn: 0.0436307\ttotal: 1m 27s\tremaining: 5m 2s\n",
            "27:\tlearn: 0.0406764\ttotal: 1m 29s\tremaining: 4m 55s\n",
            "28:\tlearn: 0.0380235\ttotal: 1m 33s\tremaining: 4m 53s\n",
            "29:\tlearn: 0.0356659\ttotal: 1m 35s\tremaining: 4m 46s\n",
            "30:\tlearn: 0.0335284\ttotal: 1m 39s\tremaining: 4m 45s\n",
            "31:\tlearn: 0.0316077\ttotal: 1m 43s\tremaining: 4m 44s\n",
            "32:\tlearn: 0.0298842\ttotal: 1m 46s\tremaining: 4m 41s\n",
            "33:\tlearn: 0.0283367\ttotal: 1m 50s\tremaining: 4m 38s\n",
            "34:\tlearn: 0.0269659\ttotal: 1m 54s\tremaining: 4m 37s\n",
            "35:\tlearn: 0.0257206\ttotal: 1m 58s\tremaining: 4m 36s\n",
            "36:\tlearn: 0.0246048\ttotal: 2m 2s\tremaining: 4m 34s\n",
            "37:\tlearn: 0.0236173\ttotal: 2m 6s\tremaining: 4m 32s\n",
            "38:\tlearn: 0.0227345\ttotal: 2m 10s\tremaining: 4m 30s\n",
            "39:\tlearn: 0.0219548\ttotal: 2m 13s\tremaining: 4m 27s\n",
            "40:\tlearn: 0.0212470\ttotal: 2m 17s\tremaining: 4m 24s\n",
            "41:\tlearn: 0.0206249\ttotal: 2m 21s\tremaining: 4m 22s\n",
            "42:\tlearn: 0.0200331\ttotal: 2m 24s\tremaining: 4m 19s\n",
            "43:\tlearn: 0.0195164\ttotal: 2m 28s\tremaining: 4m 16s\n",
            "44:\tlearn: 0.0190714\ttotal: 2m 32s\tremaining: 4m 13s\n",
            "45:\tlearn: 0.0186534\ttotal: 2m 36s\tremaining: 4m 11s\n",
            "46:\tlearn: 0.0182705\ttotal: 2m 39s\tremaining: 4m 7s\n",
            "47:\tlearn: 0.0179425\ttotal: 2m 43s\tremaining: 4m 4s\n",
            "48:\tlearn: 0.0176335\ttotal: 2m 46s\tremaining: 4m 1s\n",
            "49:\tlearn: 0.0173763\ttotal: 2m 50s\tremaining: 3m 58s\n",
            "50:\tlearn: 0.0171397\ttotal: 2m 53s\tremaining: 3m 54s\n",
            "51:\tlearn: 0.0169304\ttotal: 2m 57s\tremaining: 3m 52s\n",
            "52:\tlearn: 0.0167356\ttotal: 3m 1s\tremaining: 3m 48s\n",
            "53:\tlearn: 0.0166009\ttotal: 3m 4s\tremaining: 3m 45s\n",
            "54:\tlearn: 0.0164574\ttotal: 3m 8s\tremaining: 3m 42s\n",
            "55:\tlearn: 0.0163361\ttotal: 3m 11s\tremaining: 3m 39s\n",
            "56:\tlearn: 0.0162039\ttotal: 3m 15s\tremaining: 3m 36s\n",
            "57:\tlearn: 0.0161004\ttotal: 3m 20s\tremaining: 3m 34s\n",
            "58:\tlearn: 0.0160028\ttotal: 3m 24s\tremaining: 3m 30s\n",
            "59:\tlearn: 0.0159178\ttotal: 3m 27s\tremaining: 3m 27s\n",
            "60:\tlearn: 0.0158446\ttotal: 3m 31s\tremaining: 3m 24s\n",
            "61:\tlearn: 0.0157690\ttotal: 3m 34s\tremaining: 3m 21s\n",
            "62:\tlearn: 0.0156977\ttotal: 3m 38s\tremaining: 3m 17s\n",
            "63:\tlearn: 0.0156404\ttotal: 3m 42s\tremaining: 3m 14s\n",
            "64:\tlearn: 0.0155628\ttotal: 3m 45s\tremaining: 3m 10s\n",
            "65:\tlearn: 0.0155295\ttotal: 3m 49s\tremaining: 3m 7s\n",
            "66:\tlearn: 0.0154710\ttotal: 3m 52s\tremaining: 3m 4s\n",
            "67:\tlearn: 0.0154275\ttotal: 3m 56s\tremaining: 3m\n",
            "68:\tlearn: 0.0153777\ttotal: 4m\tremaining: 2m 57s\n",
            "69:\tlearn: 0.0153559\ttotal: 4m 3s\tremaining: 2m 54s\n",
            "70:\tlearn: 0.0153185\ttotal: 4m 9s\tremaining: 2m 52s\n",
            "71:\tlearn: 0.0152916\ttotal: 4m 13s\tremaining: 2m 48s\n",
            "72:\tlearn: 0.0152730\ttotal: 4m 17s\tremaining: 2m 45s\n",
            "73:\tlearn: 0.0152447\ttotal: 4m 20s\tremaining: 2m 41s\n",
            "74:\tlearn: 0.0152283\ttotal: 4m 24s\tremaining: 2m 38s\n",
            "75:\tlearn: 0.0152019\ttotal: 4m 27s\tremaining: 2m 34s\n",
            "76:\tlearn: 0.0151770\ttotal: 4m 31s\tremaining: 2m 31s\n",
            "77:\tlearn: 0.0151578\ttotal: 4m 34s\tremaining: 2m 28s\n",
            "78:\tlearn: 0.0151411\ttotal: 4m 38s\tremaining: 2m 24s\n",
            "79:\tlearn: 0.0151342\ttotal: 4m 41s\tremaining: 2m 20s\n",
            "80:\tlearn: 0.0151182\ttotal: 4m 46s\tremaining: 2m 17s\n",
            "81:\tlearn: 0.0150943\ttotal: 4m 49s\tremaining: 2m 14s\n",
            "82:\tlearn: 0.0150845\ttotal: 4m 53s\tremaining: 2m 10s\n",
            "83:\tlearn: 0.0150631\ttotal: 4m 57s\tremaining: 2m 7s\n",
            "84:\tlearn: 0.0150287\ttotal: 5m\tremaining: 2m 3s\n",
            "85:\tlearn: 0.0150124\ttotal: 5m 4s\tremaining: 2m\n",
            "86:\tlearn: 0.0149949\ttotal: 5m 8s\tremaining: 1m 56s\n",
            "87:\tlearn: 0.0149699\ttotal: 5m 12s\tremaining: 1m 53s\n",
            "88:\tlearn: 0.0149658\ttotal: 5m 16s\tremaining: 1m 50s\n",
            "89:\tlearn: 0.0149502\ttotal: 5m 19s\tremaining: 1m 46s\n",
            "90:\tlearn: 0.0149303\ttotal: 5m 23s\tremaining: 1m 43s\n",
            "91:\tlearn: 0.0149215\ttotal: 5m 27s\tremaining: 1m 39s\n",
            "92:\tlearn: 0.0149154\ttotal: 5m 30s\tremaining: 1m 35s\n",
            "93:\tlearn: 0.0149086\ttotal: 5m 34s\tremaining: 1m 32s\n",
            "94:\tlearn: 0.0149006\ttotal: 5m 37s\tremaining: 1m 28s\n",
            "95:\tlearn: 0.0148934\ttotal: 5m 41s\tremaining: 1m 25s\n",
            "96:\tlearn: 0.0148891\ttotal: 5m 45s\tremaining: 1m 21s\n",
            "97:\tlearn: 0.0148798\ttotal: 5m 49s\tremaining: 1m 18s\n",
            "98:\tlearn: 0.0148694\ttotal: 5m 52s\tremaining: 1m 14s\n",
            "99:\tlearn: 0.0148597\ttotal: 5m 56s\tremaining: 1m 11s\n",
            "100:\tlearn: 0.0148538\ttotal: 6m\tremaining: 1m 7s\n",
            "101:\tlearn: 0.0148454\ttotal: 6m 3s\tremaining: 1m 4s\n",
            "102:\tlearn: 0.0148303\ttotal: 6m 7s\tremaining: 1m\n",
            "103:\tlearn: 0.0148278\ttotal: 6m 11s\tremaining: 57.1s\n",
            "104:\tlearn: 0.0148268\ttotal: 6m 14s\tremaining: 53.5s\n",
            "105:\tlearn: 0.0148230\ttotal: 6m 18s\tremaining: 50s\n",
            "106:\tlearn: 0.0148216\ttotal: 6m 21s\tremaining: 46.4s\n",
            "107:\tlearn: 0.0148118\ttotal: 6m 25s\tremaining: 42.9s\n",
            "108:\tlearn: 0.0148062\ttotal: 6m 29s\tremaining: 39.3s\n",
            "109:\tlearn: 0.0147865\ttotal: 6m 32s\tremaining: 35.7s\n",
            "110:\tlearn: 0.0147822\ttotal: 6m 36s\tremaining: 32.2s\n",
            "111:\tlearn: 0.0147800\ttotal: 6m 40s\tremaining: 28.6s\n",
            "112:\tlearn: 0.0147787\ttotal: 6m 43s\tremaining: 25s\n",
            "113:\tlearn: 0.0147765\ttotal: 6m 47s\tremaining: 21.5s\n",
            "114:\tlearn: 0.0147743\ttotal: 6m 51s\tremaining: 17.9s\n",
            "115:\tlearn: 0.0147642\ttotal: 6m 54s\tremaining: 14.3s\n",
            "116:\tlearn: 0.0147613\ttotal: 6m 58s\tremaining: 10.7s\n",
            "117:\tlearn: 0.0147600\ttotal: 7m 2s\tremaining: 7.16s\n",
            "118:\tlearn: 0.0147553\ttotal: 7m 6s\tremaining: 3.58s\n",
            "119:\tlearn: 0.0147517\ttotal: 7m 9s\tremaining: 0us\n",
            "CPU times: user 5h 56min 13s, sys: 2h 40s, total: 7h 56min 54s\n",
            "Wall time: 11min 23s\n"
          ]
        },
        {
          "data": {
            "text/plain": [
              "<catboost.core.CatBoostClassifier at 0x7fd8e14a1588>"
            ]
          },
          "execution_count": 196,
          "metadata": {},
          "output_type": "execute_result"
        }
      ],
      "source": [
        "%%time\n",
        "\n",
        "model = CatBoostClassifier(custom_metric= ['Logloss'], learning_rate=0.1, n_estimators=120,max_depth=7, cat_features=categorical_features_names)\n",
        "model.fit(train_new[feats],train_new['label'])"
      ]
    },
    {
      "cell_type": "code",
      "execution_count": null,
      "metadata": {
        "id": "960oYDo2eQqw"
      },
      "outputs": [],
      "source": [
        "preds_neww = model.predict_proba(test_new[feats])[:,1]"
      ]
    },
    {
      "cell_type": "code",
      "execution_count": null,
      "metadata": {
        "id": "nug8b0SweQqx"
      },
      "outputs": [],
      "source": [
        "preds_ = model.predict_proba(X_test[feats])[:,1]"
      ]
    },
    {
      "cell_type": "code",
      "execution_count": null,
      "metadata": {
        "id": "cFIY-T-8eQqx"
      },
      "outputs": [],
      "source": [
        "preds_2 = model.predict_proba(X_test[feats])[:,1]"
      ]
    },
    {
      "cell_type": "code",
      "execution_count": null,
      "metadata": {
        "id": "ZL1dWUtYeQqx"
      },
      "outputs": [],
      "source": [
        "preds_3 = model.predict_proba(X_test[feats])[:,1]"
      ]
    },
    {
      "cell_type": "code",
      "execution_count": null,
      "metadata": {
        "id": "0HGGH2HTeQqx",
        "outputId": "c32a7048-222d-4efb-d800-32f644e7e36a"
      },
      "outputs": [
        {
          "data": {
            "text/plain": [
              "0.014493850515968732"
            ]
          },
          "execution_count": 177,
          "metadata": {},
          "output_type": "execute_result"
        }
      ],
      "source": [
        "log_loss(y_test,preds_)"
      ]
    },
    {
      "cell_type": "code",
      "execution_count": null,
      "metadata": {
        "id": "kouA6dS7eQqy",
        "outputId": "7fa731c2-9803-4c5e-f383-20fe1b10a20c"
      },
      "outputs": [
        {
          "data": {
            "text/plain": [
              "0.014741350383111898"
            ]
          },
          "execution_count": 189,
          "metadata": {},
          "output_type": "execute_result"
        }
      ],
      "source": [
        "log_loss(y_test,preds_3)"
      ]
    },
    {
      "cell_type": "code",
      "execution_count": null,
      "metadata": {
        "id": "4J6BcjIueQqy",
        "outputId": "45b27a23-c945-42cb-ff56-fed2d250e0be"
      },
      "outputs": [
        {
          "data": {
            "text/plain": [
              "0.01456536494045804"
            ]
          },
          "execution_count": 184,
          "metadata": {},
          "output_type": "execute_result"
        }
      ],
      "source": [
        "log_loss(y_test,preds_2)"
      ]
    },
    {
      "cell_type": "code",
      "execution_count": null,
      "metadata": {
        "id": "5vJ2hZXseQqy",
        "outputId": "9a299730-4fe3-4313-bcb8-1d12f53adad1"
      },
      "outputs": [
        {
          "data": {
            "text/plain": [
              "0.08787363014241754"
            ]
          },
          "execution_count": 178,
          "metadata": {},
          "output_type": "execute_result"
        }
      ],
      "source": [
        "log_loss(y_test,np.zeros(len(preds_)))"
      ]
    },
    {
      "cell_type": "code",
      "execution_count": null,
      "metadata": {
        "id": "qVwZhTZWeQqz"
      },
      "outputs": [],
      "source": [
        "df = pd.DataFrame()\n",
        "df['prediction'] = preds_neww"
      ]
    },
    {
      "cell_type": "code",
      "execution_count": null,
      "metadata": {
        "id": "T8Us_5LCeQqz"
      },
      "outputs": [],
      "source": [
        "df.to_csv('catboost_preds_new.csv',index=False)"
      ]
    },
    {
      "cell_type": "code",
      "execution_count": null,
      "metadata": {
        "id": "EKFjLn43eQqz"
      },
      "outputs": [],
      "source": []
    }
  ],
  "metadata": {
    "kernelspec": {
      "display_name": "Python 3",
      "language": "python",
      "name": "python3"
    },
    "language_info": {
      "codemirror_mode": {
        "name": "ipython",
        "version": 3
      },
      "file_extension": ".py",
      "mimetype": "text/x-python",
      "name": "python",
      "nbconvert_exporter": "python",
      "pygments_lexer": "ipython3",
      "version": "3.7.3"
    },
    "colab": {
      "provenance": []
    }
  },
  "nbformat": 4,
  "nbformat_minor": 0
}