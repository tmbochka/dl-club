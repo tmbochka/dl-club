{
 "cells": [
  {
   "cell_type": "code",
   "execution_count": null,
   "id": "1a89efe7",
   "metadata": {},
   "outputs": [],
   "source": [
    "import pandas as pd\n",
    "\n",
    "import gc\n",
    "import torch    \n",
    "\n",
    "from catboost import CatBoostClassifier\n",
    "import pandas as pd\n",
    "from sklearn.model_selection import train_test_split\n",
    "from transformers.models.deprecated.graphormer.collating_graphormer import preprocess_item"
   ]
  },
  {
   "cell_type": "code",
   "execution_count": null,
   "id": "afaec4a9",
   "metadata": {},
   "outputs": [],
   "source": [
    "pd.set_option(\"display.max_columns\", None)\n",
    "\n",
    "user_item = pd.read_parquet('/home/pret/PycharmProjects/Vseros_classification/Datasets/train.parquet', engine='pyarrow')\n",
    "item_features = pd.read_parquet('/home/pret/PycharmProjects/Vseros_classification/Datasets/video_stat.parquet', engine='pyarrow')\n",
    "test = pd.read_parquet('/home/pret/PycharmProjects/Vseros_classification/Datasets/test.parquet', engine='pyarrow')"
   ]
  },
  {
   "cell_type": "markdown",
   "id": "b35423a7",
   "metadata": {},
   "source": [
    "### Предобработка"
   ]
  },
  {
   "cell_type": "code",
   "execution_count": null,
   "id": "d26739e3-0c15-4d0f-854f-281ecc75f976",
   "metadata": {},
   "outputs": [],
   "source": [
    "def target_preprocessing(data):\n",
    "    if data['v_duration'] > 300:\n",
    "        long_video = int(1)\n",
    "        if data['watchtime'] > data['v_duration']*0.25:\n",
    "            res = int(1)\n",
    "        else:\n",
    "            res = int(0)\n",
    "    else:\n",
    "        long_video = int(0)\n",
    "        if data['watchtime'] > 30:\n",
    "            res = int(1)\n",
    "        else:\n",
    "            res = int(0)\n",
    "    return res, long_video\n",
    "\n",
    "duration = item_features[['v_duration', 'video_id']]\n",
    "\n",
    "# Объединение данных и применение функции\n",
    "user_item = pd.merge(user_item, duration, on='video_id', how = 'left')\n",
    "# apply: Применяет функцию target_preprocessing к каждой строке DataFrame.\n",
    "user_item[['watchtime', 'long_video']] = user_item[['watchtime', 'v_duration']].apply(target_preprocessing, axis=1, result_type='expand')\n",
    "user_item = user_item.drop(columns=['v_duration'])\n",
    "\n",
    "def target_preprocessing(time):\n",
    "    if time > 300:\n",
    "        long_video = int(1)\n",
    "    else:\n",
    "        long_video = int(0)\n",
    "    return long_video\n",
    "\n",
    "duration = item_features[['v_duration', 'video_id']]\n",
    "\n",
    "test = pd.merge(test, duration, on='video_id', how = 'left')\n",
    "test['long_video'] = test['v_duration'].apply(lambda x: target_preprocessing(x))\n",
    "test = test.drop(columns=['v_duration'])\n",
    "\n",
    "\n",
    "def time_preprocessing(column):\n",
    "\n",
    "    column = pd.to_datetime(column)\n",
    "    column = column.apply(lambda x: x.timestamp())\n",
    "\n",
    "\n",
    "    column = (column - column.min()) / (column.max() - column.min())\n",
    "\n",
    "    return column\n",
    "\n",
    "user_item['event_timestamp'] = time_preprocessing(user_item['event_timestamp'])\n",
    "user_item.to_csv('/home/pret/PycharmProjects/Vseros_classification/Datasets/Interaction_table.csv')\n",
    "\n",
    "item_features['v_pub_datetime'] = time_preprocessing(item_features['v_pub_datetime'])\n",
    "item_features.to_csv('/home/pret/PycharmProjects/Vseros_classification/Datasets/Item_features.csv')\n",
    "\n",
    "test['event_timestamp'] = time_preprocessing(test['event_timestamp'])\n",
    "test.to_csv('/home/pret/PycharmProjects/Vseros_classification/Datasets/Interaction_table_test.csv')"
   ]
  },
  {
   "cell_type": "code",
   "execution_count": null,
   "id": "078f082d-5171-4176-ba37-c9e48ce1d3c5",
   "metadata": {},
   "outputs": [],
   "source": [
    "# Очистка памяти\n",
    "\n",
    "gc.collect()\n",
    "torch.cuda.empty_cache()"
   ]
  },
  {
   "cell_type": "code",
   "execution_count": null,
   "id": "2689f6d4-f702-4fde-a595-eabc30104b3c",
   "metadata": {},
   "outputs": [],
   "source": [
    "train_dataset = pd.read_csv('/home/pret/PycharmProjects/Vseros_classification/Datasets/Interaction_table.csv')\n",
    "item_features = pd.read_csv('/home/pret/PycharmProjects/Vseros_classification/Datasets/Item_features.csv')\n",
    "item_features = item_features.drop(columns=['description','title'])\n",
    "train_dataset = pd.merge(train_dataset, item_features, on='video_id', how='left')\n",
    "train_dataset = train_dataset.drop(columns=['Unnamed: 0_x', 'Unnamed: 0_y', 'row_number'])\n",
    "\n",
    "test = pd.read_csv('/home/pret/PycharmProjects/Vseros_classification/Datasets/Interaction_table_test.csv')\n",
    "test = pd.merge(test, item_features, on='video_id', how='left')\n",
    "test = test.drop(columns=['Unnamed: 0_x', 'Unnamed: 0_y', 'row_number'])\n",
    "print('Merged successfully!')"
   ]
  },
  {
   "cell_type": "markdown",
   "id": "35e39e6b",
   "metadata": {},
   "source": [
    "### Обучение модели"
   ]
  },
  {
   "cell_type": "code",
   "execution_count": null,
   "id": "3ed82a4d-8f04-40c1-90ae-c11ed42c4f13",
   "metadata": {},
   "outputs": [],
   "source": [
    "categorical_data = ['user_id', 'video_id', 'category_id', 'region', 'city', 'long_video', 'author_id'] # для ухудшения результата можете выкинуть признаки\n",
    "\n",
    "model = CatBoostClassifier(\n",
    " #   auto_class_weights='SqrtBalanced',\n",
    "  #   l2_leaf_reg=int(2),\n",
    "    learning_rate=0.8, # тут тыкаетесь \n",
    "    loss_function = 'Logloss',\n",
    "    eval_metric='F1',\n",
    "    random_seed=42,\n",
    "    logging_level='Silent',\n",
    "    iterations=5, # тут тыкаетесь \n",
    "    task_type=\"GPU\",\n",
    "    devices='0',\n",
    ")\n",
    "\n",
    "X_train = train_dataset.copy().drop(columns = ['watchtime'])\n",
    "y_train = train_dataset.copy()['watchtime']"
   ]
  },
  {
   "cell_type": "code",
   "execution_count": null,
   "id": "ce11a9bd-82e3-4f30-833c-f3399925f26f",
   "metadata": {},
   "outputs": [],
   "source": [
    "del train_dataset\n",
    "del item_features \n",
    "# заботимся о памяти"
   ]
  },
  {
   "cell_type": "code",
   "execution_count": null,
   "id": "403ac443-d476-4d1d-873d-966117c5cbf9",
   "metadata": {},
   "outputs": [],
   "source": [
    "model.fit(\n",
    "    X_train, y_train,\n",
    "    cat_features=categorical_data,\n",
    "    logging_level='Verbose'\n",
    ")\n",
    "model.save_model(\"/home/pret/PycharmProjects/Vseros_classification/Models/catboost_model_LOL.cbm\")"
   ]
  },
  {
   "cell_type": "code",
   "execution_count": null,
   "id": "df18e3a0-d4dd-476a-b1d9-4f08288947a1",
   "metadata": {},
   "outputs": [],
   "source": [
    "predict = model.predict_proba(test)[:,1:].flatten()\n",
    "submission = pd.DataFrame({'target' : predict})\n",
    "\n",
    "def threshold (item, holding):\n",
    "    if item > holding:\n",
    "        item = int(1)\n",
    "    else:\n",
    "        item = int(0)\n",
    "    return item\n",
    "\n",
    "hold = 0.3\n",
    "\n",
    "submission = submission['target'].apply(lambda item: threshold(item, hold))\n",
    "submission.to_csv('/home/pret/PycharmProjects/Vseros_classification/Submissions/HUITASUB.csv', index=False)"
   ]
  },
  {
   "cell_type": "code",
   "execution_count": null,
   "id": "f51c265e-6c84-4f07-a316-fb0de0e9ff24",
   "metadata": {},
   "outputs": [],
   "source": [
    "submission"
   ]
  }
 ],
 "metadata": {
  "kernelspec": {
   "display_name": "Python 3 (ipykernel)",
   "language": "python",
   "name": "python3"
  },
  "language_info": {
   "codemirror_mode": {
    "name": "ipython",
    "version": 3
   },
   "file_extension": ".py",
   "mimetype": "text/x-python",
   "name": "python",
   "nbconvert_exporter": "python",
   "pygments_lexer": "ipython3",
   "version": "3.12.3"
  }
 },
 "nbformat": 4,
 "nbformat_minor": 5
}
