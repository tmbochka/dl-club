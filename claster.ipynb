{
 "cells": [
  {
   "cell_type": "markdown",
   "metadata": {},
   "source": [
    "В задаче кластеризации нет целевой переменной. Вместо этого мы группируем локации на основе их сходства."
   ]
  },
  {
   "cell_type": "markdown",
   "metadata": {},
   "source": [
    "Кластеризация\n",
    "\n",
    "Если задача заключается в группировке локаций по схожим характеристикам:\n",
    "\n",
    "    K-Means:\n",
    "\n",
    "        Простая и эффективная модель кластеризации, которая хорошо работает с данными, имеющими четкие кластеры.\n",
    "\n",
    "    DBSCAN:\n",
    "\n",
    "        Модель, которая может обнаруживать кластеры произвольной формы и хорошо работает с данными, содержащими шум.\n",
    "\n",
    "    Иерархическая кластеризация (Hierarchical Clustering):\n",
    "\n",
    "        Модель, которая строит иерархию кластеров и может быть полезна для визуализации структуры данных.\n",
    "\n",
    "    Спектральная кластеризация (Spectral Clustering):\n",
    "\n",
    "        Модель, которая хорошо работает с данными, имеющими сложную структуру, и может обнаруживать кластеры, которые не обязательно являются выпуклыми."
   ]
  },
  {
   "cell_type": "code",
   "execution_count": null,
   "metadata": {},
   "outputs": [],
   "source": [
    "import pandas as pd\n",
    "import numpy as np\n",
    "from pyproj import Transformer\n",
    "from sklearn.cluster import KMeans, AgglomerativeClustering\n",
    "from sklearn.metrics import silhouette_score\n",
    "import matplotlib.pyplot as plt"
   ]
  },
  {
   "cell_type": "code",
   "execution_count": null,
   "metadata": {},
   "outputs": [],
   "source": [
    "# Пример данных о локациях\n",
    "data = {\n",
    "    'latitude': [40.7128, 40.7306, 40.7484, 40.7580, 40.7688, 40.7788, 40.7888, 40.7988],\n",
    "    'longitude': [-74.0060, -73.9352, -73.9857, -73.9857, -73.9681, -73.9581, -73.9481, -73.9381]\n",
    "}\n",
    "\n",
    "df = pd.DataFrame(data)\n",
    "\n",
    "# Создаем трансформер для проекции Меркатора\n",
    "transformer = Transformer.from_crs(\"EPSG:4326\", \"EPSG:3857\", always_xy=True)\n",
    "\n",
    "# Преобразуем географические координаты в плоские\n",
    "df['x'], df['y'] = transformer.transform(df['longitude'].values, df['latitude'].values)\n",
    "\n",
    "# Функция для расчета манхэттенского расстояния\n",
    "def manhattan_distance(x1, y1, x2, y2):\n",
    "    return abs(x2 - x1) + abs(y2 - y1)\n",
    "\n",
    "# Расчет матрицы манхэттенских расстояний\n",
    "def compute_manhattan_distances(df):\n",
    "    n = len(df)\n",
    "    distances = np.zeros((n, n))\n",
    "    for i in range(n):\n",
    "        for j in range(n):\n",
    "            distances[i, j] = manhattan_distance(df.loc[i, 'x'], df.loc[i, 'y'], df.loc[j, 'x'], df.loc[j, 'y'])\n",
    "    return distances\n",
    "\n",
    "# Вычисляем матрицу манхэттенских расстояний\n",
    "distances_matrix = compute_manhattan_distances(df)\n",
    "\n",
    "# Добавляем расстояния до всех локаций в качестве признаков\n",
    "distances_df = pd.DataFrame(distances_matrix, columns=[f'distance_to_{j}' for j in range(len(df))])\n",
    "df = pd.concat([df, distances_df], axis=1)\n",
    "\n",
    "# Выбираем признаки для кластеризации\n",
    "X = df.drop(columns=['latitude', 'longitude'])\n",
    "\n",
    "# Кластеризация с использованием KMeans\n",
    "kmeans = KMeans(n_clusters=2, random_state=42)\n",
    "kmeans.fit(X)\n",
    "labels_kmeans = kmeans.labels_\n",
    "\n",
    "# Оценка качества кластеризации с использованием silhouette_score\n",
    "silhouette_kmeans = silhouette_score(X, labels_kmeans)\n",
    "print(f\"Silhouette score для KMeans: {silhouette_kmeans}\")\n",
    "\n",
    "# Кластеризация с использованием AgglomerativeClustering\n",
    "agg_clustering = AgglomerativeClustering(n_clusters=2)\n",
    "labels_agg = agg_clustering.fit_predict(X)\n",
    "\n",
    "# Оценка качества кластеризации с использованием silhouette_score\n",
    "silhouette_agg = silhouette_score(X, labels_agg)\n",
    "print(f\"Silhouette score для AgglomerativeClustering: {silhouette_agg}\")\n",
    "\n",
    "# Визуализация кластеров\n",
    "plt.figure(figsize=(12, 6))\n",
    "\n",
    "plt.subplot(1, 2, 1)\n",
    "plt.scatter(df['x'], df['y'], c=labels_kmeans, cmap='viridis')\n",
    "plt.title('KMeans Clustering')\n",
    "\n",
    "plt.subplot(1, 2, 2)\n",
    "plt.scatter(df['x'], df['y'], c=labels_agg, cmap='viridis')\n",
    "plt.title('Agglomerative Clustering')\n",
    "\n",
    "plt.show()"
   ]
  }
 ],
 "metadata": {
  "kernelspec": {
   "display_name": "Python 3",
   "language": "python",
   "name": "python3"
  },
  "language_info": {
   "name": "python",
   "version": "3.10.12"
  }
 },
 "nbformat": 4,
 "nbformat_minor": 2
}
